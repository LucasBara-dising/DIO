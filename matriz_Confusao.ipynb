{
  "nbformat": 4,
  "nbformat_minor": 0,
  "metadata": {
    "colab": {
      "provenance": [],
      "authorship_tag": "ABX9TyOqNyK5GsSEUTZM2z/bgVRP",
      "include_colab_link": true
    },
    "kernelspec": {
      "name": "python3",
      "display_name": "Python 3"
    },
    "language_info": {
      "name": "python"
    }
  },
  "cells": [
    {
      "cell_type": "markdown",
      "metadata": {
        "id": "view-in-github",
        "colab_type": "text"
      },
      "source": [
        "<a href=\"https://colab.research.google.com/github/LucasBara-dising/DIO/blob/main/matriz_Confusao.ipynb\" target=\"_parent\"><img src=\"https://colab.research.google.com/assets/colab-badge.svg\" alt=\"Open In Colab\"/></a>"
      ]
    },
    {
      "cell_type": "markdown",
      "source": [
        "Matriz de consufusão e os calculos de acuarcia"
      ],
      "metadata": {
        "id": "-gfpHL3aTnZY"
      }
    },
    {
      "cell_type": "code",
      "execution_count": null,
      "metadata": {
        "id": "q0GmJ1-cSCtA"
      },
      "outputs": [],
      "source": [
        "matriz=[70,10,30,90]\n",
        "\n",
        "vp=matriz[0]\n",
        "vn=matriz[2]\n",
        "fp=matriz[1]\n",
        "fn=matriz[3]\n",
        "\n",
        "#quanto que acertou (Ppositivos)\n",
        "sensibilidade = vp/(vp+fn)\n",
        "#Quanto que elam falso\n",
        "especificidade = vn/(vn+fp)\n",
        "#Quantidade de acerto\n",
        "acuracia = (vp+vn)/(vp+vn+fp+fn)\n",
        "#Quantidade de acertos positivis, quantos deixou passar\n",
        "precisao = vp/(vp+fp)"
      ]
    }
  ]
}