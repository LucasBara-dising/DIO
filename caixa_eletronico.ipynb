{
  "cells": [
    {
      "cell_type": "markdown",
      "metadata": {
        "id": "view-in-github",
        "colab_type": "text"
      },
      "source": [
        "<a href=\"https://colab.research.google.com/github/LucasBara-dising/DIO/blob/main/caixa_eletronico.ipynb\" target=\"_parent\"><img src=\"https://colab.research.google.com/assets/colab-badge.svg\" alt=\"Open In Colab\"/></a>"
      ]
    },
    {
      "cell_type": "code",
      "source": [
        "#var\n",
        "saldo=1000\n",
        "max_saque=500\n",
        "limite_saques=3\n",
        "\n",
        "\n",
        "print(\"Bem vindo\")\n",
        "print(\"Qual função deve?\")\n",
        "\n",
        "while True:\n",
        "  print(\"1- Saque\")\n",
        "  print(\"2- Extrato\")\n",
        "  print(\"3- Deposito\")\n",
        "  print(\"Sair...\")\n",
        "\n",
        "  opcao= int(input(\"Digite um numero\"))\n",
        "\n",
        "  match opcao:\n",
        "    case 1:\n",
        "      #Saque\n",
        "      print(\"Valor do saque\")\n",
        "      valor_saque= int(input(\"Valor\"))\n",
        "      if valor_saque > saldo:\n",
        "        print(\"Saldo insuficiente\")\n",
        "\n",
        "      if valor_saque > max_saque:\n",
        "        print(\"Valor maximo de saque excedido\")\n",
        "\n",
        "      if valor_saque > limite_saques:\n",
        "        print(\"Limite de saques excedido\")\n",
        "\n",
        "      else:\n",
        "        saldo -= valor_saque\n",
        "        print(\"Saque realizado com sucesso\")\n",
        "\n",
        "    case 2:\n",
        "      #Extrato\n",
        "      print(\"Extrato\")\n",
        "      print(f\"Saldo: {saldo}\")\n",
        "\n",
        "    case 3:\n",
        "      #Deposito\n",
        "      print(\"Deposito\")\n",
        "      valor_deposito= int(input(\"Valor\"))\n",
        "      saldo += valor_deposito\n",
        "      print(\"Deposito realizado com sucesso\")\n",
        "\n",
        "    case _:\n",
        "      print(\"Sair\")\n",
        "      False\n",
        "      break\n"
      ],
      "metadata": {
        "id": "84tYsQTWXHON",
        "outputId": "5cdc6959-93f9-4513-ef1a-9c6c1217b7d8",
        "colab": {
          "base_uri": "https://localhost:8080/"
        }
      },
      "execution_count": 8,
      "outputs": [
        {
          "output_type": "stream",
          "name": "stdout",
          "text": [
            "Bem vindo\n",
            "Qual função deve?\n",
            "1- Saque\n",
            "2- Extrato\n",
            "3- Deposito\n",
            "Sair...\n",
            "Digite um numero3\n",
            "Deposito\n",
            "Valor200\n",
            "Deposito realizado com sucesso\n",
            "1- Saque\n",
            "2- Extrato\n",
            "3- Deposito\n",
            "Sair...\n",
            "Digite um numero2\n",
            "Extrato\n",
            "Saldo: 1200\n",
            "1- Saque\n",
            "2- Extrato\n",
            "3- Deposito\n",
            "Sair...\n",
            "Digite um numero1\n",
            "Valor do saque\n",
            "Valor400\n",
            "Limite de saques excedido\n",
            "1- Saque\n",
            "2- Extrato\n",
            "3- Deposito\n",
            "Sair...\n",
            "Digite um numero541\n",
            "Sair\n"
          ]
        }
      ]
    }
  ],
  "metadata": {
    "colab": {
      "name": "Olá, este é o Colaboratory",
      "toc_visible": true,
      "provenance": [],
      "include_colab_link": true
    },
    "kernelspec": {
      "display_name": "Python 3",
      "name": "python3"
    }
  },
  "nbformat": 4,
  "nbformat_minor": 0
}